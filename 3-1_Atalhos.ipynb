{
 "cells": [
  {
   "cell_type": "markdown",
   "id": "047bbde7-f686-4217-8f12-433306b09525",
   "metadata": {},
   "source": [
    "## Tipos de célula"
   ]
  },
  {
   "cell_type": "markdown",
   "id": "01e2e572-5d4b-4690-8ba5-cb517de69d55",
   "metadata": {},
   "source": [
    "- Markdown: permite fazer anotações mais elaboradas (negrito, itálico, cabeçalho, etc).\n",
    "- Code: modo onde as linhas de código são escritas.\n",
    "- Raw: conteúdo que não será modificado."
   ]
  },
  {
   "cell_type": "markdown",
   "id": "713b8b70-b370-464e-8bb0-57b9fc50b582",
   "metadata": {},
   "source": [
    "## Modo **comando** e modo **ediçāo**"
   ]
  },
  {
   "cell_type": "markdown",
   "id": "b3baeece-f376-4354-a4d1-45cb2aa929e7",
   "metadata": {},
   "source": [
    "- Para ir para o modo **comando** apertamos o **ESC**.\n",
    "- Para ir para o modo de **edição** apertamos o **Enter**."
   ]
  },
  {
   "cell_type": "markdown",
   "id": "db3b58a4-743d-4644-b9e4-42675cb14ba9",
   "metadata": {},
   "source": [
    "## Atalhos de Teclado (shortcuts)"
   ]
  },
  {
   "cell_type": "markdown",
   "id": "18055772-a0f0-4d81-b911-2d54ae6901a4",
   "metadata": {},
   "source": [
    "Mudando de uma célula para outra: \n",
    "1. m -> vai para o modo markdown\n",
    "2. y -> vai para o mode code\n",
    "3. r > vai para o modo raw\n",
    "\n",
    "Lembre-se! A mudança deve ser feita sempre com a célula no modo comando."
   ]
  },
  {
   "cell_type": "markdown",
   "id": "b1e148cf-2468-4f39-a274-b1696716a4fb",
   "metadata": {},
   "source": [
    "## Para ver a lista de shortcuts"
   ]
  },
  {
   "cell_type": "markdown",
   "id": "428bfa86-95d3-4be5-b766-6e6b9b02b4d8",
   "metadata": {},
   "source": [
    "Depende do sistema operacional (Mac -> cmd shift h).\n",
    "\n",
    "Testar no Windows"
   ]
  },
  {
   "cell_type": "markdown",
   "id": "e268ae73-6eef-46c6-a2da-33f169fc61eb",
   "metadata": {},
   "source": [
    "## Outros atalhos de teclado"
   ]
  },
  {
   "cell_type": "markdown",
   "id": "5a7ae22c-df28-4223-9805-4fa4aa16160c",
   "metadata": {},
   "source": [
    "- Cria célula acima (above): a (no modo de comando)\n",
    "- Cria célula abaipo (below): b (no modo de comando)\n",
    "- Copia: c (no modo de comando)\n",
    "- Cola: v (no modo de comando)\n",
    "- Desfaz: z (no modo de comando)\n",
    "- Corta: x (no modo de comando)\n",
    "- Apaga (*delete*): dd (no modo de comando)"
   ]
  },
  {
   "cell_type": "markdown",
   "id": "a593dbb9-bf76-41c4-8aed-f2ffaf2e0d7d",
   "metadata": {},
   "source": [
    "## Juntando células (Merging)"
   ]
  },
  {
   "cell_type": "code",
   "execution_count": null,
   "id": "83136f90-5647-40da-8e5d-1f171ea454bc",
   "metadata": {},
   "outputs": [],
   "source": [
    "x = 10"
   ]
  },
  {
   "cell_type": "code",
   "execution_count": null,
   "id": "fa21d94e-5c83-4efd-81cd-7f09f23367a4",
   "metadata": {},
   "outputs": [],
   "source": [
    "y = 3"
   ]
  },
  {
   "cell_type": "code",
   "execution_count": null,
   "id": "03529152-a27b-478a-94b1-f7e1780c7c43",
   "metadata": {},
   "outputs": [],
   "source": [
    "x + y "
   ]
  },
  {
   "cell_type": "markdown",
   "id": "c9e0fe35-2c5d-495d-a2ed-6a81d385343a",
   "metadata": {},
   "source": [
    "## Encontre e substitua (Find and Replace)"
   ]
  },
  {
   "cell_type": "markdown",
   "id": "88cabdd7-0491-4760-a645-19e3ddea6e6f",
   "metadata": {},
   "source": [
    "- No Mac -> cmd f\n",
    "- Windows >\n",
    "- Linux -> "
   ]
  },
  {
   "cell_type": "markdown",
   "id": "09cd139f-7ab2-464b-ae49-0b291d58d3aa",
   "metadata": {},
   "source": [
    "## Atalho de teclado para rodar/executar (*Run*): shift Enter"
   ]
  },
  {
   "cell_type": "code",
   "execution_count": null,
   "id": "4c8f5aa0-f57b-4abd-aef0-be23936551fd",
   "metadata": {},
   "outputs": [],
   "source": []
  }
 ],
 "metadata": {
  "kernelspec": {
   "display_name": "Python 3 (ipykernel)",
   "language": "python",
   "name": "python3"
  },
  "language_info": {
   "codemirror_mode": {
    "name": "ipython",
    "version": 3
   },
   "file_extension": ".py",
   "mimetype": "text/x-python",
   "name": "python",
   "nbconvert_exporter": "python",
   "pygments_lexer": "ipython3",
   "version": "3.11.5"
  }
 },
 "nbformat": 4,
 "nbformat_minor": 5
}
