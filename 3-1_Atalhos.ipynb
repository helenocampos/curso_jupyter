{
 "cells": [
  {
   "cell_type": "markdown",
   "id": "882b046e-731f-4bc8-a61b-2c8a00207ced",
   "metadata": {
    "editable": true,
    "slideshow": {
     "slide_type": ""
    },
    "tags": []
   },
   "source": [
    "## Tipos de célula"
   ]
  },
  {
   "cell_type": "markdown",
   "id": "bb659161-81a1-4022-bc32-2e8d44879705",
   "metadata": {},
   "source": [
    "- Markdown: permite fazer anotações mais elaboradas (negrito, itálico, cabeçalho, etc).\n",
    "- Code: modo onde as linhas de código são escritas.\n",
    "- Raw: conteúdo que não será modificado."
   ]
  },
  {
   "cell_type": "markdown",
   "id": "7368eefa-8255-444f-ae0c-d1bda12310f5",
   "metadata": {},
   "source": [
    "## Modo **comando** e modo **ediçāo**"
   ]
  },
  {
   "cell_type": "markdown",
   "id": "b3baeece-f376-4354-a4d1-45cb2aa929e7",
   "metadata": {},
   "source": [
    "- Para ir para o modo **comando** apertamos o **ESC**.\n",
    "- Para ir para o modo de **edição** apertamos o **Enter**."
   ]
  },
  {
   "cell_type": "markdown",
   "id": "db3b58a4-743d-4644-b9e4-42675cb14ba9",
   "metadata": {},
   "source": [
    "## Atalhos de Teclado (shortcuts)"
   ]
  },
  {
   "cell_type": "markdown",
   "id": "18055772-a0f0-4d81-b911-2d54ae6901a4",
   "metadata": {},
   "source": [
    "Mudando de uma célula para outra: \n",
    "1. m -> vai para o modo markdown\n",
    "2. y -> vai para o mode code\n",
    "3. r -> vai para o modo raw\n",
    "\n",
    "Lembre-se! A mudança deve ser feita sempre com a célula no modo comando."
   ]
  },
  {
   "cell_type": "markdown",
   "id": "b1e148cf-2468-4f39-a274-b1696716a4fb",
   "metadata": {},
   "source": [
    "## Para ver a lista de shortcuts"
   ]
  },
  {
   "cell_type": "markdown",
   "id": "428bfa86-95d3-4be5-b766-6e6b9b02b4d8",
   "metadata": {},
   "source": [
    "Depende do sistema operacional (Mac -> cmd shift h).\n",
    "\n",
    "Windows: Ctrl shift h"
   ]
  },
  {
   "cell_type": "markdown",
   "id": "e268ae73-6eef-46c6-a2da-33f169fc61eb",
   "metadata": {},
   "source": [
    "## Outros atalhos de teclado"
   ]
  },
  {
   "cell_type": "markdown",
   "id": "5a7ae22c-df28-4223-9805-4fa4aa16160c",
   "metadata": {},
   "source": [
    "- Cria célula acima (above): a (no modo de comando)\n",
    "- Cria célula abaipo (below): b (no modo de comando)\n",
    "- Copia: c (no modo de comando)\n",
    "- Cola: v (no modo de comando)\n",
    "- Desfaz: z (no modo de comando)\n",
    "- Corta: x (no modo de comando)\n",
    "- Apaga (*delete*): dd (no modo de comando)"
   ]
  },
  {
   "cell_type": "markdown",
   "id": "a593dbb9-bf76-41c4-8aed-f2ffaf2e0d7d",
   "metadata": {},
   "source": [
    "## Juntando células (Merging)"
   ]
  },
  {
   "cell_type": "markdown",
   "id": "8ec5c9f9-2a7b-4bd9-b41c-c92bd6f9806c",
   "metadata": {},
   "source": [
    "### Comandos para selecionar as células\n",
    "- shift teclas direcionais (arrow keys)\n",
    "- shift j\n",
    "- Ambos no modo de comando\n",
    "### Comando para juntar as células\n",
    "- shift m (no modo de comando)\n",
    "### Comando separar as linhas\n",
    "- ctrl shift - (**no modo de edição!**)"
   ]
  },
  {
   "cell_type": "code",
   "execution_count": null,
   "id": "ae29dbec-23f9-4b33-bc43-df6ea49fe6fb",
   "metadata": {},
   "outputs": [],
   "source": [
    "x = 10\n",
    "\n",
    "y = 3\n",
    "\n",
    "x + y "
   ]
  },
  {
   "cell_type": "markdown",
   "id": "c9e0fe35-2c5d-495d-a2ed-6a81d385343a",
   "metadata": {},
   "source": [
    "## Encontre e substitua (Find and Replace)"
   ]
  },
  {
   "cell_type": "markdown",
   "id": "88cabdd7-0491-4760-a645-19e3ddea6e6f",
   "metadata": {},
   "source": [
    "- No Mac -> cmd f\n",
    "- Windows > ctrl f\n",
    "- Linux -> ctrl f"
   ]
  },
  {
   "cell_type": "markdown",
   "id": "09cd139f-7ab2-464b-ae49-0b291d58d3aa",
   "metadata": {},
   "source": [
    "## Atalho de teclado para rodar/executar (*Run*): shift Enter"
   ]
  },
  {
   "cell_type": "code",
   "execution_count": null,
   "id": "647d4d19-e2f8-4b64-a5f7-6445c2a9bfc9",
   "metadata": {},
   "outputs": [],
   "source": []
  }
 ],
 "metadata": {
  "kernelspec": {
   "display_name": "Python 3 (ipykernel)",
   "language": "python",
   "name": "python3"
  },
  "language_info": {
   "codemirror_mode": {
    "name": "ipython",
    "version": 3
   },
   "file_extension": ".py",
   "mimetype": "text/x-python",
   "name": "python",
   "nbconvert_exporter": "python",
   "pygments_lexer": "ipython3",
   "version": "3.11.6"
  }
 },
 "nbformat": 4,
 "nbformat_minor": 5
}
