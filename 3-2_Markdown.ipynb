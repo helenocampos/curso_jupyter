{
 "cells": [
  {
   "cell_type": "markdown",
   "id": "d44b6481",
   "metadata": {
    "editable": true,
    "slideshow": {
     "slide_type": ""
    },
    "tags": []
   },
   "source": [
    "# Minicurso Jupyter Notebooks"
   ]
  },
  {
   "cell_type": "markdown",
   "id": "3da75c8c",
   "metadata": {},
   "source": [
    "## Primeiros Passos"
   ]
  },
  {
   "cell_type": "markdown",
   "id": "50bce3c3",
   "metadata": {},
   "source": [
    "**Negrito**"
   ]
  },
  {
   "cell_type": "markdown",
   "id": "f5190d6c",
   "metadata": {},
   "source": [
    "*Itálico*"
   ]
  },
  {
   "cell_type": "markdown",
   "id": "171fa911-dcf7-48c7-a6ee-98343cf6a8d6",
   "metadata": {},
   "source": [
    "Listas numéricas:\n",
    "1. Primeiro\n",
    "   1. PP\n",
    "3. Segundo\n",
    "   2. SS\n",
    "5. Terceiro\n",
    "   3. TT"
   ]
  },
  {
   "cell_type": "markdown",
   "id": "2c5d54bc-1779-4ad5-b3f3-d3afcc046c1e",
   "metadata": {},
   "source": [
    "Listas com bullets:\n",
    "- Um\n",
    "    - 1\n",
    "- Dois\n",
    "    - 2\n",
    "- Três\n",
    "    - 3"
   ]
  },
  {
   "cell_type": "markdown",
   "id": "a808bcc9-bd0b-4900-9521-44549c6ca132",
   "metadata": {},
   "source": [
    "## Exemplificando scripts"
   ]
  },
  {
   "cell_type": "markdown",
   "id": "7eb57b92-0bba-4381-a125-9d2bbb24578a",
   "metadata": {},
   "source": [
    "Script para iniciar com sorte\n",
    "```python\n",
    "print(\"Hello, world!\")\n",
    "```"
   ]
  },
  {
   "cell_type": "markdown",
   "id": "72b8848a-c9f2-424b-85df-4564c983e10e",
   "metadata": {},
   "source": [
    "## Inserindo links e figuras"
   ]
  },
  {
   "cell_type": "markdown",
   "id": "318c84cf-8946-4421-a6e3-d97d894b680d",
   "metadata": {},
   "source": [
    "Visite a página do [LIneA](http://www.linea.org.br)"
   ]
  },
  {
   "cell_type": "markdown",
   "id": "012d967d-64a8-478a-b5dd-ce22301a7c90",
   "metadata": {},
   "source": [
    "Para inserir imagem: ![Espelho](https://lh7-rt.googleusercontent.com/docsz/AD_4nXcwgDnEtDks-TL4Z8ENeqJ1xuHK-3pPzjUJjaskaggWsH1PUthxoOj04lBqqm7gC477qRe8Wu1__eJIsrpk_Av5kLOlzOgx-bQ8bjurcCLdU1iKL1MK-Zf-7rTH4qe4otgC-gmx65sgMLWaw-AMEOg_w37A?key=FRv76GBurTUFcJhbz7LRug)"
   ]
  },
  {
   "cell_type": "markdown",
   "id": "a9561f33-91e4-4fd2-861e-d61424b8ebc2",
   "metadata": {},
   "source": [
    "**Referência para o modo** [Markdown](https://www.markdownguide.org/)"
   ]
  }
 ],
 "metadata": {
  "kernelspec": {
   "display_name": "Python 3 (ipykernel)",
   "language": "python",
   "name": "python3"
  },
  "language_info": {
   "codemirror_mode": {
    "name": "ipython",
    "version": 3
   },
   "file_extension": ".py",
   "mimetype": "text/x-python",
   "name": "python",
   "nbconvert_exporter": "python",
   "pygments_lexer": "ipython3",
   "version": "3.11.6"
  }
 },
 "nbformat": 4,
 "nbformat_minor": 5
}
