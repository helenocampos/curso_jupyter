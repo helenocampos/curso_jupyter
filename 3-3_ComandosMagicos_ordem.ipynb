{
 "cells": [
  {
   "cell_type": "markdown",
   "id": "9c14c935",
   "metadata": {},
   "source": [
    "# Comandos Mágicos"
   ]
  },
  {
   "cell_type": "markdown",
   "id": "d6769a25",
   "metadata": {},
   "source": [
    "Existem dois tipos de comandos mágicos:\n",
    "1. Comandos de Linha: Eles operam em uma única linha de entrada. São denotados por um prefixo **%** que é seguido pelo argumento sem parênteses ou aspas.\n",
    "2. Comandos de Célula: Eles operam em uma célula inteira do notebook, que está em várias linhas. São denotados por um prefixo **%%** duplo."
   ]
  },
  {
   "cell_type": "markdown",
   "id": "e687e58c",
   "metadata": {},
   "source": [
    "[Documentação resumo dos comandos mágicos](https://ipython.readthedocs.io/en/stable/interactive/magics.html)"
   ]
  },
  {
   "cell_type": "markdown",
   "id": "5e1c1bd0",
   "metadata": {},
   "source": [
    "## Lista todos os comandos mágicos: "
   ]
  },
  {
   "cell_type": "code",
   "execution_count": null,
   "id": "aa8a4da9",
   "metadata": {
    "scrolled": true
   },
   "outputs": [],
   "source": [
    "%lsmagic"
   ]
  },
  {
   "cell_type": "markdown",
   "id": "39e7059f",
   "metadata": {},
   "source": [
    "## Exemplo de comando de linha:"
   ]
  },
  {
   "cell_type": "code",
   "execution_count": null,
   "id": "74b471a8",
   "metadata": {
    "scrolled": true
   },
   "outputs": [],
   "source": [
    "%precision 2\n",
    "num = 3.14159265359 \n",
    "num"
   ]
  },
  {
   "cell_type": "markdown",
   "id": "b463d390",
   "metadata": {},
   "source": [
    "## Exemplo de comando de célula:"
   ]
  },
  {
   "cell_type": "code",
   "execution_count": null,
   "id": "c62fd1bd",
   "metadata": {
    "scrolled": false
   },
   "outputs": [],
   "source": [
    "%%latex\n",
    "\\begin{equation}\n",
    "   E = mc^2\n",
    "\\end{equation}"
   ]
  },
  {
   "cell_type": "markdown",
   "id": "0265012d",
   "metadata": {},
   "source": [
    "# Ordem de execução"
   ]
  },
  {
   "cell_type": "code",
   "execution_count": null,
   "id": "2583de71",
   "metadata": {
    "scrolled": true
   },
   "outputs": [],
   "source": [
    "def sinal(valor):\n",
    "    if valor > 0:\n",
    "        return \"Positivo\"\n",
    "    elif valor < 0:\n",
    "        return \"Negativo\"\n",
    "    return\n",
    "print('Olá, mundo!')"
   ]
  },
  {
   "cell_type": "code",
   "execution_count": null,
   "id": "53cb3934",
   "metadata": {
    "scrolled": true
   },
   "outputs": [],
   "source": [
    "print(sinal(9))\n",
    "print(sinal(-7))\n",
    "print(sinal(0))"
   ]
  },
  {
   "cell_type": "code",
   "execution_count": null,
   "id": "b5cce0e6",
   "metadata": {},
   "outputs": [],
   "source": [
    "x = 9\n",
    "y = 10\n",
    "x + y\n",
    "x-y\n",
    "x/y"
   ]
  },
  {
   "cell_type": "markdown",
   "id": "b73bc210",
   "metadata": {},
   "source": [
    "## Executando comandos do terminal"
   ]
  },
  {
   "cell_type": "markdown",
   "id": "02766a69",
   "metadata": {},
   "source": [
    "O uso do ponto de exclamação **!** permite executar comandos do terminal no Jupyter Notebooks."
   ]
  },
  {
   "cell_type": "code",
   "execution_count": null,
   "id": "f529da98",
   "metadata": {
    "scrolled": true
   },
   "outputs": [],
   "source": [
    "!pwd"
   ]
  },
  {
   "cell_type": "code",
   "execution_count": null,
   "id": "714f4a07",
   "metadata": {
    "scrolled": true
   },
   "outputs": [],
   "source": [
    "!pip install EinsteinPy"
   ]
  },
  {
   "cell_type": "markdown",
   "id": "4b4d1a46",
   "metadata": {},
   "source": [
    "## Toggle"
   ]
  },
  {
   "cell_type": "markdown",
   "id": "4d3c1467",
   "metadata": {},
   "source": [
    "- Podemos usar a letra **o** para esconder ou mostrar o resultado da execução de uma célula.\n",
    "- **Cmd o** coloca barra na saída tecla Windows para Windows?"
   ]
  }
 ],
 "metadata": {
  "kernelspec": {
   "display_name": "Python 3 (ipykernel)",
   "language": "python",
   "name": "python3"
  },
  "language_info": {
   "codemirror_mode": {
    "name": "ipython",
    "version": 3
   },
   "file_extension": ".py",
   "mimetype": "text/x-python",
   "name": "python",
   "nbconvert_exporter": "python",
   "pygments_lexer": "ipython3",
   "version": "3.11.5"
  }
 },
 "nbformat": 4,
 "nbformat_minor": 5
}
