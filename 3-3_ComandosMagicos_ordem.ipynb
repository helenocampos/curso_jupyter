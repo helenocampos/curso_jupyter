{
 "cells": [
  {
   "cell_type": "markdown",
   "id": "9c14c935",
   "metadata": {
    "slideshow": {
     "slide_type": ""
    },
    "tags": []
   },
   "source": [
    "# Comandos Mágicos"
   ]
  },
  {
   "cell_type": "markdown",
   "id": "d6769a25",
   "metadata": {},
   "source": [
    "Existem dois tipos de comandos mágicos:\n",
    "1. Comandos de Linha: Eles operam em uma única linha de entrada. São denotados por um prefixo **%** que é seguido pelo argumento sem parênteses ou aspas.\n",
    "2. Comandos de Célula: Eles operam em uma célula inteira do notebook, que está em várias linhas. São denotados por um prefixo **%%** duplo."
   ]
  },
  {
   "cell_type": "markdown",
   "id": "e687e58c",
   "metadata": {},
   "source": [
    "[Documentação resumo dos comandos mágicos](https://ipython.readthedocs.io/en/stable/interactive/magics.html)"
   ]
  },
  {
   "cell_type": "markdown",
   "id": "5e1c1bd0",
   "metadata": {},
   "source": [
    "## Lista todos os comandos mágicos: "
   ]
  },
  {
   "cell_type": "code",
   "execution_count": null,
   "id": "aa8a4da9",
   "metadata": {
    "scrolled": true
   },
   "outputs": [],
   "source": [
    "%lsmagic"
   ]
  },
  {
   "cell_type": "markdown",
   "id": "39e7059f",
   "metadata": {},
   "source": [
    "## Exemplo de comando de linha:"
   ]
  },
  {
   "cell_type": "code",
   "execution_count": null,
   "id": "f3127e9a-be86-47c4-b5fe-064bea73884b",
   "metadata": {},
   "outputs": [],
   "source": [
    "import time\n",
    "%time time.sleep(2)"
   ]
  },
  {
   "cell_type": "code",
   "execution_count": null,
   "id": "74b471a8",
   "metadata": {
    "scrolled": true
   },
   "outputs": [],
   "source": [
    "%precision 2\n",
    "num = 3.14159265359 \n",
    "num"
   ]
  },
  {
   "cell_type": "markdown",
   "id": "b463d390",
   "metadata": {},
   "source": [
    "## Exemplo de comando de célula:"
   ]
  },
  {
   "cell_type": "code",
   "execution_count": null,
   "id": "c62fd1bd",
   "metadata": {},
   "outputs": [],
   "source": [
    "%%latex\n",
    "\\begin{equation}\n",
    "   E = mc^2\n",
    "\\end{equation}"
   ]
  },
  {
   "cell_type": "markdown",
   "id": "0265012d",
   "metadata": {},
   "source": [
    "# Ordem de execução"
   ]
  },
  {
   "cell_type": "code",
   "execution_count": null,
   "id": "2583de71",
   "metadata": {
    "scrolled": true
   },
   "outputs": [],
   "source": [
    "def sinal(valor):\n",
    "    if valor > 0:\n",
    "        return \"Positivo\"\n",
    "    elif valor < 0:\n",
    "        return \"Negativo\"\n",
    "    return\n",
    "print('Olá, mundo!')"
   ]
  },
  {
   "cell_type": "code",
   "execution_count": null,
   "id": "53cb3934",
   "metadata": {
    "scrolled": true
   },
   "outputs": [],
   "source": [
    "print(sinal(9))\n",
    "print(sinal(-7))\n",
    "print(sinal(0))"
   ]
  },
  {
   "cell_type": "code",
   "execution_count": null,
   "id": "b5cce0e6",
   "metadata": {},
   "outputs": [],
   "source": [
    "x = 9\n",
    "y = 10\n",
    "x + y\n",
    "x-y\n",
    "x/y"
   ]
  },
  {
   "cell_type": "markdown",
   "id": "06fd18f9-5f78-407e-bf18-616527b40e1c",
   "metadata": {},
   "source": [
    "# Gerenciamento da memória"
   ]
  },
  {
   "cell_type": "code",
   "execution_count": null,
   "id": "dbb26d4d-5af6-4ef0-a40e-d446c67a1960",
   "metadata": {},
   "outputs": [],
   "source": [
    "contador = 0"
   ]
  },
  {
   "cell_type": "markdown",
   "id": "d3dee8a0-9d83-4a68-8d99-5c65c26d0258",
   "metadata": {},
   "source": [
    "> O conteúdo das variáveis de um notebook ficam armazenados em memória enquanto o notebook estiver sendo executado no kernel do Jupyter.\n",
    "Tente fazer o seguinte teste: execute a célula abaixo. Feche o notebook e abra novamente. Agora execute de novo."
   ]
  },
  {
   "cell_type": "code",
   "execution_count": null,
   "id": "98bee85e-5085-402f-bfde-4d237151f26b",
   "metadata": {},
   "outputs": [],
   "source": [
    "contador +=1\n",
    "print(contador)"
   ]
  },
  {
   "cell_type": "markdown",
   "id": "f075282e-259a-46a3-871d-aed47f664c25",
   "metadata": {},
   "source": [
    "> Caso queira resetar o que já foi guardado na memória do notebook, é necessário reiniciar o kernel.\n",
    "\n",
    "> Acesse o menu superior \"Kernel\" e escolha a opção \"Restart Kernel\".\n",
    "> Agora execute novamente a célula acima. Ela vai dar erro, pois como reiniciamos o kernel, a variável contador ainda não foi definida."
   ]
  },
  {
   "cell_type": "markdown",
   "id": "2ec0132f-f68c-4a4a-bbc9-83681594d0eb",
   "metadata": {},
   "source": [
    "# Limpando a saída"
   ]
  },
  {
   "cell_type": "markdown",
   "id": "6db02909-1de5-4f1a-a5e4-c269b1873a7b",
   "metadata": {},
   "source": [
    "> Ao salvar um notebook, tudo que foi escrito e gerado de saída da execução é salvo. A memória do kernel *NÃO* é salva.\n",
    "\n",
    "> É boa prática limpar as saídas ao salvar o notebook para guardá-lo num repositório, por exemplo. A exceção é quando se deseja que o notebook seja \"lido\" por alguém. Nesse caso, pode ser interessante salvar com as saídas geradas.\n",
    "\n",
    "> Para limpar as saídas, acesse o menu superior \"Edit\" e então a opção \"Clear outputs of all cells\". "
   ]
  },
  {
   "cell_type": "markdown",
   "id": "b73bc210",
   "metadata": {},
   "source": [
    "## Executando comandos do terminal"
   ]
  },
  {
   "cell_type": "markdown",
   "id": "02766a69",
   "metadata": {},
   "source": [
    "O uso do ponto de exclamação **!** permite executar comandos do terminal no Jupyter Notebooks."
   ]
  },
  {
   "cell_type": "code",
   "execution_count": null,
   "id": "f529da98",
   "metadata": {
    "scrolled": true
   },
   "outputs": [],
   "source": [
    "!pwd"
   ]
  },
  {
   "cell_type": "code",
   "execution_count": null,
   "id": "714f4a07",
   "metadata": {
    "scrolled": true
   },
   "outputs": [],
   "source": [
    "!pip install EinsteinPy"
   ]
  },
  {
   "cell_type": "markdown",
   "id": "4b4d1a46",
   "metadata": {},
   "source": [
    "## Toggle"
   ]
  },
  {
   "cell_type": "markdown",
   "id": "4d3c1467",
   "metadata": {},
   "source": [
    "- Podemos usar a letra **o** para esconder ou mostrar o resultado da execução de uma célula. (Não disponível no JupyterLab)\n"
   ]
  }
 ],
 "metadata": {
  "kernelspec": {
   "display_name": "Python 3 (ipykernel)",
   "language": "python",
   "name": "python3"
  },
  "language_info": {
   "codemirror_mode": {
    "name": "ipython",
    "version": 3
   },
   "file_extension": ".py",
   "mimetype": "text/x-python",
   "name": "python",
   "nbconvert_exporter": "python",
   "pygments_lexer": "ipython3",
   "version": "3.11.6"
  }
 },
 "nbformat": 4,
 "nbformat_minor": 5
}
