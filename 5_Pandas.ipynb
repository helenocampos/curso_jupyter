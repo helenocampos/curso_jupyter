{
 "cells": [
  {
   "cell_type": "markdown",
   "metadata": {},
   "source": [
    "# Curso de Jupyter Notebooks: Manipulação de Dados com pandas"
   ]
  },
  {
   "cell_type": "markdown",
   "metadata": {},
   "source": [
    "> Instruções: leia a explicação de cada seção/subseção e tente executar os códigos apresentados. \n",
    "Quando houverem códigos comentados, tire o símbolo de comentário (#) e execute o código"
   ]
  },
  {
   "cell_type": "markdown",
   "metadata": {},
   "source": [
    "## Seção 1: Introdução ao pandas\n",
    "### O que é pandas?\n",
    "> Pandas é uma biblioteca de código aberto para manipulação e análise de dados em Python.\n",
    "Ela oferece estruturas de dados e ferramentas para trabalhar com dados de forma eficiente."
   ]
  },
  {
   "cell_type": "code",
   "execution_count": null,
   "metadata": {},
   "outputs": [],
   "source": [
    "## certificando que possuímos a biblioteca instalada em nosso ambiente\n",
    "# !pip install pandas"
   ]
  },
  {
   "cell_type": "code",
   "execution_count": null,
   "metadata": {},
   "outputs": [],
   "source": [
    "## importando a biblioteca\n",
    "# import pandas as pd"
   ]
  },
  {
   "cell_type": "markdown",
   "metadata": {},
   "source": [
    "## Seção 2: Criação e Leitura de DataFrames\n",
    "\n",
    "> Os DataFrames são uma das principais estruturas de dados do pandas.\n",
    "Eles são semelhantes a tabelas em bancos de dados relacionais ou planilhas do Excel.\n",
    "Podemos criar DataFrames a partir de diferentes fontes de dados, como dicionários, listas e arquivos CSV."
   ]
  },
  {
   "cell_type": "markdown",
   "metadata": {},
   "source": [
    "### Criando um dataframe a partir de um dicionário\n",
    "```\n",
    "# definição do dicionário\n",
    "data = {\n",
    "    'Nome': ['Ana', 'Bruno', 'Carlos', 'Daniela'],\n",
    "    'Idade': [23, 35, 45, 30],\n",
    "    'Cidade': ['São Paulo', 'Rio de Janeiro', 'Belo Horizonte', 'Salvador']\n",
    "}\n",
    "\n",
    "# criação do dataframe, passando o dicionário como parâmetro\n",
    "df = pd.DataFrame(data)\n",
    "print(\"DataFrame criado a partir de um dicionário:\")\n",
    "df\n",
    "```"
   ]
  },
  {
   "cell_type": "code",
   "execution_count": null,
   "metadata": {},
   "outputs": [],
   "source": [
    "# tente executar o código acima aqui"
   ]
  },
  {
   "cell_type": "markdown",
   "metadata": {},
   "source": [
    "### Criando um dataframe a partir de um arquivo CSV\n",
    "\n",
    "> Podemos ler arquivos CSV diretamente em um DataFrame usando a função read_csv do pandas.\n",
    "O arquivo CSV deve estar no mesmo diretório do notebook ou o caminho deve ser especificado.\n",
    "\n",
    "```\n",
    "df_csv = pd.read_csv('dados_exemplo.csv')\n",
    "print(\"DataFrame lido de um arquivo CSV:\")\n",
    "df_csv.head()\n",
    "```"
   ]
  },
  {
   "cell_type": "code",
   "execution_count": null,
   "metadata": {},
   "outputs": [],
   "source": [
    "# tente executar o código acima aqui"
   ]
  },
  {
   "cell_type": "markdown",
   "metadata": {},
   "source": [
    "### Visualizando um dataframe\n",
    "\n",
    "> Como estamos em um notebook interativo, podemos pedir ao notebook para exibir o dataframe diretamente, referenciando o nome do mesmo. Mas também é possível pedir para imprimir o dataframe, usando a função print(). Experimente as duas opções na célula abaixo."
   ]
  },
  {
   "cell_type": "code",
   "execution_count": null,
   "metadata": {},
   "outputs": [],
   "source": [
    "# tente executar o código acima aqui"
   ]
  },
  {
   "cell_type": "markdown",
   "metadata": {},
   "source": [
    "> Se quisermos, podemos imprimir somente uma coluna: `df_csv['Nome']`\n",
    "\n",
    "> Ou uma seleção de colunas: `df_csv[['Nome', 'Idade']]`"
   ]
  },
  {
   "cell_type": "code",
   "execution_count": null,
   "metadata": {},
   "outputs": [],
   "source": [
    "# execute o código acima aqui"
   ]
  },
  {
   "cell_type": "markdown",
   "metadata": {},
   "source": [
    "### A estrutura Series no Pandas\n",
    "\n",
    "> Cada coluna no Pandas é representada por uma estrutura de dados chamada `Series`. Um objeto `Series` é sempre um array unidimensional.\n",
    "\n",
    "> Observe a saída ao imprimir a coluna 'Nome' do `df_csv`"
   ]
  },
  {
   "cell_type": "code",
   "execution_count": 2,
   "metadata": {},
   "outputs": [],
   "source": [
    "# execute o código aqui"
   ]
  },
  {
   "cell_type": "markdown",
   "metadata": {},
   "source": [
    "## Seção 3: Filtragem de Dados\n",
    "\n",
    "> A filtragem de dados permite selecionar subconjuntos de dados com base em condições específicas.\n",
    "Por exemplo, podemos filtrar linhas que atendem a uma condição lógica."
   ]
  },
  {
   "cell_type": "markdown",
   "metadata": {},
   "source": [
    "### Filtrando linhas com base em uma condição\n",
    "\n",
    "```\n",
    "print(\"Filtrando pessoas com idade acima de 30:\")\n",
    "df_filtrado = df_csv[df_csv['Idade'] > 30]\n",
    "df_filtrado\n",
    "```"
   ]
  },
  {
   "cell_type": "code",
   "execution_count": null,
   "metadata": {},
   "outputs": [],
   "source": [
    "# tente executar o código acima aqui"
   ]
  },
  {
   "cell_type": "code",
   "execution_count": null,
   "metadata": {},
   "outputs": [],
   "source": [
    "# agora tente fazer um outro filtro à sua escolha"
   ]
  },
  {
   "cell_type": "markdown",
   "metadata": {},
   "source": [
    "## Seção 4: Estatísticas Básicas\n",
    "\n",
    "> Pandas facilita o cálculo de estatísticas descritivas, como média, mediana, desvio padrão, etc.\n",
    "Essas estatísticas ajudam a entender melhor a distribuição e as características dos dados."
   ]
  },
  {
   "cell_type": "markdown",
   "metadata": {},
   "source": [
    "### Calculando estatísticas descritivas\n",
    "```\n",
    "print(\"Estatísticas descritivas do DataFrame:\")\n",
    "df.describe()\n",
    "```"
   ]
  },
  {
   "cell_type": "code",
   "execution_count": null,
   "metadata": {},
   "outputs": [],
   "source": [
    "# tente executar o código acima aqui"
   ]
  },
  {
   "cell_type": "markdown",
   "metadata": {},
   "source": [
    "## Seção 5: Agrupamento de Dados\n",
    "\n",
    "> O agrupamento de dados é útil para realizar agregações e sumarizações com base em uma ou mais colunas.\n",
    "A função groupby permite agrupar os dados e aplicar funções de agregação, como média, soma, etc."
   ]
  },
  {
   "cell_type": "markdown",
   "metadata": {},
   "source": [
    "### Agrupando dados\n",
    "\n",
    "> Podemos agrupar dados de um dataframe usando a função groupby(). Para isso, passamos como parâmetro o nome da coluna pela qual desejamos agrupar os dados. A função retorna um dataframe agrupado. Agora é necessário usar alguma função de agregação para exibir os dados sobre os grupos. Podemos usar funções como mean(), min(), max(), sum(), etc.\n",
    "\n",
    "> No exemplo abaixo, agrupamos o dataframe por cidade e exibimos a média de idade em cada cidade.\n",
    "\n",
    "```\n",
    "print(\"Média de idade por cidade:\")\n",
    "df_grupo = df_csv.groupby('Cidade').mean()\n",
    "df_grupo\n",
    "```"
   ]
  },
  {
   "cell_type": "code",
   "execution_count": null,
   "metadata": {},
   "outputs": [],
   "source": [
    "# tente executar o código acima aqui"
   ]
  },
  {
   "cell_type": "code",
   "execution_count": null,
   "metadata": {},
   "outputs": [],
   "source": [
    "# tente descobrir a maior e a menor idade de cada cidade do dataframe df_csv"
   ]
  },
  {
   "cell_type": "markdown",
   "metadata": {},
   "source": [
    "## Seção 6: Ordenação de Dados\n",
    "\n",
    "> A ordenação de dados facilita a visualização e análise, organizando os dados em ordem crescente ou decrescente.\n",
    "A função sort_values permite ordenar o DataFrame com base em uma ou mais colunas.\n",
    "O parâmetro `ascending` permite escolher se deseja uma ordem ascendente ou descendente."
   ]
  },
  {
   "cell_type": "markdown",
   "metadata": {},
   "source": [
    "### Ordenando por idade de forma crescente\n",
    "```\n",
    "print(\"DataFrame ordenado por idade:\")\n",
    "df_ordenado = df_csv.sort_values(by='Idade')\n",
    "df_ordenado\n",
    "```\n",
    "\n",
    "### Ordenando por idade de forma decrescente\n",
    "```\n",
    "print(\"DataFrame ordenado por idade:\")\n",
    "df_ordenado = df_csv.sort_values(by='Idade', ascending=False)\n",
    "df_ordenado\n",
    "```"
   ]
  },
  {
   "cell_type": "code",
   "execution_count": null,
   "metadata": {},
   "outputs": [],
   "source": [
    "# tente executar o código acima aqui"
   ]
  },
  {
   "cell_type": "markdown",
   "metadata": {},
   "source": [
    "## Seção 7: Combinação de DataFrames\n",
    "\n",
    "> Combinar DataFrames permite unir dados de diferentes fontes.\n",
    "Pandas oferece várias funções para combinar DataFrames, como concat e merge."
   ]
  },
  {
   "cell_type": "markdown",
   "metadata": {},
   "source": [
    "### Concatenando DataFrames\n",
    "\n",
    "> Concatenar dataframes significa juntar os dados de um ou mais dataframes, um após o outro.\n",
    "O parâmetro `ignore_index=True` pode ser usado para indicar que não queremos que os índices do segundo dataset sejam mantidos. Ou seja, queremos continuar a contagem de índices do dataset original\n",
    "```\n",
    "data2 = {\n",
    "    'Nome': ['Marcela', 'Heleno'],\n",
    "    'Idade': [22, 30],\n",
    "    'Cidade': ['São Paulo', 'Rio de Janeiro']\n",
    "}\n",
    "df2 = pd.DataFrame(data2)\n",
    "print(\"Concatenando dois DataFrames:\")\n",
    "df_concatenado = pd.concat([df_csv, df2], ignore_index=True)\n",
    "df_concatenado\n",
    "```"
   ]
  },
  {
   "cell_type": "code",
   "execution_count": null,
   "metadata": {},
   "outputs": [],
   "source": [
    "# tente executar o código acima aqui"
   ]
  },
  {
   "cell_type": "markdown",
   "metadata": {},
   "source": [
    "### Mesclando DataFrames\n",
    "\n",
    "> A função merge permite combinar DataFrames com base em colunas comuns, similar a junções em bancos de dados relacionais.\n",
    "\n",
    "> O parâmetro `on` indica qual coluna será utilizada para fazer a mesclagem. Já o parâmetro `how` indica como a mesclagem deve ser feita: inner, outer, left, right, etc. Funciona da mesma forma que no SQL.\n",
    "\n",
    "```\n",
    "data_left = {\n",
    "    'Nome': ['Ana', 'Bruno', 'Carlos'],\n",
    "    'Nota1': [85, 90, 78]\n",
    "}\n",
    "data_right = {\n",
    "    'Nome': ['Ana', 'Bruno', 'Daniela'],\n",
    "    'Nota2': [88, 79, 85]\n",
    "}\n",
    "\n",
    "df_left = pd.DataFrame(data_left)\n",
    "df_right = pd.DataFrame(data_right)\n",
    "print(\"Mesclando dois DataFrames com base na coluna 'Nome':\")\n",
    "df_merge = pd.merge(df_left, df_right, on='Nome', how='outer')\n",
    "df_merge\n",
    "```"
   ]
  },
  {
   "cell_type": "code",
   "execution_count": null,
   "metadata": {},
   "outputs": [],
   "source": [
    "# tente executar o código acima aqui"
   ]
  }
 ],
 "metadata": {
  "kernelspec": {
   "display_name": "Python 3 (ipykernel)",
   "language": "python",
   "name": "python3"
  },
  "language_info": {
   "codemirror_mode": {
    "name": "ipython",
    "version": 3
   },
   "file_extension": ".py",
   "mimetype": "text/x-python",
   "name": "python",
   "nbconvert_exporter": "python",
   "pygments_lexer": "ipython3",
   "version": "3.11.6"
  }
 },
 "nbformat": 4,
 "nbformat_minor": 4
}
