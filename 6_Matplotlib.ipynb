{
 "cells": [
  {
   "cell_type": "markdown",
   "metadata": {},
   "source": [
    "# Curso de Jupyter Notebooks: Visualização de Dados com Matplotlib"
   ]
  },
  {
   "cell_type": "markdown",
   "metadata": {},
   "source": [
    "> Instruções: leia a explicação de cada seção/subseção e tente executar os códigos apresentados. \n",
    "Quando houverem códigos comentados, tire o símbolo de comentário (#) e execute o código"
   ]
  },
  {
   "cell_type": "markdown",
   "metadata": {},
   "source": [
    "## Seção 1: Introdução ao Matplotlib\n",
    "> Matplotlib é uma biblioteca de visualização de dados em Python, amplamente utilizada para criar gráficos estáticos, animados e interativos.\n",
    "Antes de começar a criar gráficos, é importante entender alguns conceitos fundamentais:\n",
    "> - `figure`: Representa a janela ou o espaço onde o gráfico será desenhado.\n",
    "> - `axes`: São os eixos do gráfico, que podem ser vistos como subplots dentro da `figure`.\n",
    "> - `show()`: Função usada para exibir o gráfico."
   ]
  },
  {
   "cell_type": "code",
   "execution_count": null,
   "metadata": {},
   "outputs": [],
   "source": [
    "## certificando que possuímos a biblioteca instalada em nosso ambiente\n",
    "# !pip install matplotlib"
   ]
  },
  {
   "cell_type": "code",
   "execution_count": null,
   "metadata": {},
   "outputs": [],
   "source": [
    "## importando a biblioteca\n",
    "# import matplotlib.pyplot as plt"
   ]
  },
  {
   "cell_type": "markdown",
   "metadata": {},
   "source": [
    "> Para criar um gráfico simples, podemos usar o código abaixo\n",
    "```\n",
    "fig, ax = plt.subplots()\n",
    "ax.plot([1, 2, 3, 4], [10, 20, 25, 30])\n",
    "plt.show()\n",
    "```"
   ]
  },
  {
   "cell_type": "code",
   "execution_count": null,
   "metadata": {},
   "outputs": [],
   "source": [
    "# tente executar o código acima aqui"
   ]
  },
  {
   "cell_type": "markdown",
   "metadata": {},
   "source": [
    "### Salvando um gráfico\n",
    "\n",
    "> Ao usar o comando `plt.show()`, o gráfico será renderizado no notebook. Entretanto, caso seja necessário salvar o gráfico gerado, podemos usar a função `savefig` da figura `fig`. É possível especificar a densidade de píxels da imagem gerada através do parâmetro `dpi`. Isso é muito útil para artigos que exigem figuras com pelo menos 300 dpi. A figura será gerada com o nome especificado no primeiro parâmetro. No exemplo abaixo, o nome será figura1.png e a imagem será salva na mesma pasta do notebook.\n",
    "\n",
    "```\n",
    "fig.savefig('figura1.png', dpi=300)\n",
    "```"
   ]
  },
  {
   "cell_type": "code",
   "execution_count": null,
   "metadata": {},
   "outputs": [],
   "source": [
    "# tente executar o código acima aqui e verifique a imagem gerada na pasta do notebook"
   ]
  },
  {
   "cell_type": "markdown",
   "metadata": {},
   "source": [
    "## Seção 2: Histogramas\n",
    "\n",
    "> Um histograma é uma representação gráfica da distribuição de um conjunto de dados. \n",
    "Ele divide os dados em intervalos (bins) e conta quantos valores caem em cada intervalo."
   ]
  },
  {
   "cell_type": "markdown",
   "metadata": {},
   "source": [
    "> Vamos criar um conjunto de dados sintéticos usando o NumPy para testar o histograma.\n",
    "A função `np.random.normal` cria uma distribuição normal aleatória, \n",
    "onde o primeiro parâmetro é o centro da distribuição,\n",
    "o segundo parâmetro é o desvio padrão \n",
    "e o terceiro parâmetro é o tamanho da distribuição.\n",
    "\n",
    "```\n",
    "import numpy as np\n",
    "dados_hist = np.random.normal(50, 15, 1000)\n",
    "```"
   ]
  },
  {
   "cell_type": "code",
   "execution_count": null,
   "metadata": {},
   "outputs": [],
   "source": [
    "# tente executar o código acima aqui"
   ]
  },
  {
   "cell_type": "markdown",
   "metadata": {},
   "source": [
    "> Agora vamos criar o histograma usando os dados armazenados em `dados_hist`\n",
    "\n",
    "```\n",
    "plt.hist(dados_hist, bins=30, color='blue', edgecolor='black')\n",
    "plt.title('Histograma de Distribuição')\n",
    "plt.xlabel('Valor')\n",
    "plt.ylabel('Frequência')\n",
    "plt.show()\n",
    "```"
   ]
  },
  {
   "cell_type": "code",
   "execution_count": null,
   "metadata": {},
   "outputs": [],
   "source": [
    "# tente executar o código acima aqui"
   ]
  },
  {
   "cell_type": "markdown",
   "metadata": {},
   "source": [
    "### Customizando o histograma\n",
    "\n",
    "> Você pode personalizar a aparência do histograma ajustando o número de bins, cores, bordas, títulos e rótulos dos eixos.\n",
    "Por exemplo, alterando o número de bins e a cor do histograma.\n",
    "```\n",
    "plt.hist(dados_hist, bins=50, color='green', edgecolor='black')\n",
    "plt.title('Histograma Customizado')\n",
    "plt.xlabel('Valor')\n",
    "plt.ylabel('Frequência')\n",
    "plt.show()\n",
    "```"
   ]
  },
  {
   "cell_type": "code",
   "execution_count": null,
   "metadata": {},
   "outputs": [],
   "source": [
    "# tente executar o código acima aqui"
   ]
  },
  {
   "cell_type": "markdown",
   "metadata": {},
   "source": [
    "## Seção 3: Scatterplot\n",
    "\n",
    "> Um scatterplot (gráfico de dispersão) é usado para representar a relação entre duas variáveis.\n",
    "Cada ponto no gráfico representa uma observação no conjunto de dados."
   ]
  },
  {
   "cell_type": "markdown",
   "metadata": {},
   "source": [
    "> Vamos criar um conjunto de dados sintéticos para testar o scatterplot. Para a primeira variável (x), usaremos a função do NumPy `np.random.rand`, que gera números aleatórios com uma distribuição uniforme com valores entre 0 e 1. O seu parâmetro especifica qual o tamanho do array a ser gerado. Para a segunda variável (y), usaremos a função `np.random.normal`, mas seu valor será um valor próximo de x.\n",
    "\n",
    "```\n",
    "x = np.random.rand(100)\n",
    "y = x + np.random.normal(0, 0.1, 100)\n",
    "```"
   ]
  },
  {
   "cell_type": "code",
   "execution_count": null,
   "metadata": {},
   "outputs": [],
   "source": [
    "# tente executar o código acima aqui"
   ]
  },
  {
   "cell_type": "markdown",
   "metadata": {},
   "source": [
    "### Criando um scatterplot básico\n",
    "\n",
    "```\n",
    "plt.scatter(x, y, color='purple')\n",
    "plt.title('Scatterplot Básico')\n",
    "plt.xlabel('X')\n",
    "plt.ylabel('Y')\n",
    "plt.show()\n",
    "```"
   ]
  },
  {
   "cell_type": "code",
   "execution_count": null,
   "metadata": {},
   "outputs": [],
   "source": [
    "# tente executar o código acima aqui"
   ]
  },
  {
   "cell_type": "markdown",
   "metadata": {},
   "source": [
    "### Customizando o scatterplot\n",
    "\n",
    "> Assim como no histograma, o scatterplot pode ser customizado. \n",
    "Podemos alterar as cores (`color`), tamanhos dos pontos (`s`), transparência (`alpha`), títulos e rótulos dos eixos.\n",
    "\n",
    "```\n",
    "plt.scatter(x, y, color='magenta', s=50, alpha=0.5)\n",
    "plt.title('Scatterplot Customizado')\n",
    "plt.xlabel('X')\n",
    "plt.ylabel('Y')\n",
    "plt.show()\n",
    "```"
   ]
  },
  {
   "cell_type": "code",
   "execution_count": null,
   "metadata": {},
   "outputs": [],
   "source": [
    "# tente executar o código acima aqui"
   ]
  },
  {
   "cell_type": "markdown",
   "metadata": {},
   "source": [
    "# Seção 4: Boxplot"
   ]
  },
  {
   "cell_type": "markdown",
   "metadata": {},
   "source": [
    "> Um boxplot é uma representação gráfica que mostra a distribuição dos dados baseada em cinco números principais: mínimo, primeiro quartil (Q1), mediana (Q2), terceiro quartil (Q3) e máximo.\n",
    "É útil para identificar outliers e a dispersão dos dados.\n",
    "\n",
    "> Vamos criar um conjunto de dados sintéticos para testar o boxplot. Criaremos 3 conjuntos de dados, representando 3 grupos de observações.\n",
    "\n",
    "```\n",
    "dados_box = [np.random.normal(50, 10, 200), np.random.normal(60, 15, 200), np.random.normal(70, 5, 200)]\n",
    "```"
   ]
  },
  {
   "cell_type": "code",
   "execution_count": null,
   "metadata": {},
   "outputs": [],
   "source": [
    "# tente executar o código acima aqui"
   ]
  },
  {
   "cell_type": "markdown",
   "metadata": {},
   "source": [
    "> Agora, vamos criar um boxplot básico a partir dos dados gerados acima.\n",
    "\n",
    "```\n",
    "plt.boxplot(dados_box)\n",
    "plt.title('Boxplot Básico')\n",
    "plt.xlabel('Grupo')\n",
    "plt.ylabel('Valor')\n",
    "plt.show()\n",
    "```"
   ]
  },
  {
   "cell_type": "code",
   "execution_count": null,
   "metadata": {},
   "outputs": [],
   "source": [
    "# tente executar o código acima aqui"
   ]
  },
  {
   "cell_type": "markdown",
   "metadata": {},
   "source": [
    "### Customizando o boxplot\n",
    "\n",
    "> O boxplot também pode ser customizado. \n",
    "Podemos alterar a orientação dos boxplots (`vert`), ocultar outliers (`showfliers`) e mudar o nome dos grupos (`xticks`), por exemplo.\n",
    "\n",
    "```\n",
    "plt.boxplot(dados_box, notch=True, vert=True, showfliers=False)\n",
    "plt.title('Boxplot Customizado')\n",
    "plt.xticks([1,2,3],['Tratamento 1','Tratamento 2','Controle'])\n",
    "plt.xlabel('Grupo')\n",
    "plt.ylabel('Valor')\n",
    "plt.show()\n",
    "```"
   ]
  },
  {
   "cell_type": "code",
   "execution_count": null,
   "metadata": {},
   "outputs": [],
   "source": [
    "# tente executar o código acima aqui"
   ]
  },
  {
   "cell_type": "code",
   "execution_count": null,
   "metadata": {},
   "outputs": [],
   "source": []
  }
 ],
 "metadata": {
  "kernelspec": {
   "display_name": "Python 3 (ipykernel)",
   "language": "python",
   "name": "python3"
  },
  "language_info": {
   "codemirror_mode": {
    "name": "ipython",
    "version": 3
   },
   "file_extension": ".py",
   "mimetype": "text/x-python",
   "name": "python",
   "nbconvert_exporter": "python",
   "pygments_lexer": "ipython3",
   "version": "3.11.6"
  }
 },
 "nbformat": 4,
 "nbformat_minor": 4
}
